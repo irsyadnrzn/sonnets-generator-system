{
 "cells": [
  {
   "cell_type": "code",
   "execution_count": 2,
   "metadata": {},
   "outputs": [],
   "source": [
    "import numpy as np\n",
    "import matplotlib.pyplot as plt\n",
    "from tensorflow.keras.models import Sequential\n",
    "from tensorflow.keras.utils import to_categorical\n",
    "from tensorflow.keras.preprocessing.text import Tokenizer\n",
    "from tensorflow.keras.preprocessing.sequence import pad_sequences\n",
    "from tensorflow.keras.layers import Embedding, LSTM, Dense, Bidirectional"
   ]
  },
  {
   "cell_type": "markdown",
   "metadata": {},
   "source": [
    "## Load the Data"
   ]
  },
  {
   "cell_type": "code",
   "execution_count": 3,
   "metadata": {},
   "outputs": [
    {
     "name": "stdout",
     "output_type": "stream",
     "text": [
      "There are 2159 lines of sonnets\n",
      "\n",
      "The first 5 lines look like this: \n",
      "from fairest creatures we desire increase,\n",
      "that thereby beauty's rose might never die,\n",
      "but as the riper should by time decease,\n",
      "his tender heir might bear his memory:\n",
      "but thou, contracted to thine own bright eyes,\n"
     ]
    }
   ],
   "source": [
    "# Define the path for the dataset file\n",
    "file_path = './sonnets.txt'\n",
    "\n",
    "# Open the Sonnets File\n",
    "with open(file_path) as file:\n",
    "    data = file.read()\n",
    "\n",
    "# convert to lower case and save it as a list  \n",
    "corpus = data.lower().split(\"\\n\")\n",
    "\n",
    "# print the number of rows\n",
    "print(\"There are {} lines of sonnets\\n\" .format(len(corpus)))\n",
    "\n",
    "# show the first 5 lines of the corpus\n",
    "print(\"The first 5 lines look like this: \")\n",
    "for i in range(5):\n",
    "    print(corpus[i])\n"
   ]
  },
  {
   "cell_type": "markdown",
   "metadata": {},
   "source": [
    "## Tokenizing Text and Generating n_grams"
   ]
  },
  {
   "cell_type": "code",
   "execution_count": 4,
   "metadata": {},
   "outputs": [],
   "source": [
    "tokenizer = Tokenizer()\n",
    "tokenizer.fit_on_texts(corpus)\n",
    "total_words = len(tokenizer.word_index) + 1"
   ]
  },
  {
   "cell_type": "code",
   "execution_count": 5,
   "metadata": {},
   "outputs": [],
   "source": [
    "def n_gram_seqs(corpus, tokenizer):\n",
    "    input_sequences = []\n",
    "\n",
    "    for line in corpus:\n",
    "        token_list = tokenizer.texts_to_sequences([line])[0]\n",
    "        for i in range(1, len(token_list)):\n",
    "            n_grams_sequences = token_list[:i+1]\n",
    "            input_sequences.append(n_grams_sequences)\n",
    "    \n",
    "    return input_sequences\n"
   ]
  },
  {
   "cell_type": "code",
   "execution_count": 6,
   "metadata": {},
   "outputs": [
    {
     "name": "stdout",
     "output_type": "stream",
     "text": [
      "n_gram sequences for first example look like this:\n",
      "\n"
     ]
    },
    {
     "data": {
      "text/plain": [
       "[[34, 417],\n",
       " [34, 417, 877],\n",
       " [34, 417, 877, 166],\n",
       " [34, 417, 877, 166, 213],\n",
       " [34, 417, 877, 166, 213, 517]]"
      ]
     },
     "execution_count": 6,
     "metadata": {},
     "output_type": "execute_result"
    }
   ],
   "source": [
    "# show the exaple of input_sequences\n",
    "first_example_sequence = n_gram_seqs([corpus[0]], tokenizer)\n",
    "\n",
    "print(\"n_gram sequences for first example look like this:\\n\")\n",
    "first_example_sequence"
   ]
  },
  {
   "cell_type": "code",
   "execution_count": 7,
   "metadata": {},
   "outputs": [
    {
     "name": "stdout",
     "output_type": "stream",
     "text": [
      "n_grams of input_sequences have length: 15462\n",
      "maximum length of sequences is: 11\n"
     ]
    }
   ],
   "source": [
    "# Apply the n_gram_seqs function to the whole corpus \n",
    "input_sequences = n_gram_seqs(corpus, tokenizer)\n",
    "\n",
    "# Save the maximum length of the sequence to use it on padding  \n",
    "max_sequence_len = max([len(x) for x in input_sequences])\n",
    "\n",
    "print(f\"n_grams of input_sequences have length: {len(input_sequences)}\")\n",
    "print(f\"maximum length of sequences is: {max_sequence_len}\")"
   ]
  },
  {
   "cell_type": "markdown",
   "metadata": {},
   "source": [
    "## Add Padding to the Sequences"
   ]
  },
  {
   "cell_type": "code",
   "execution_count": 8,
   "metadata": {},
   "outputs": [],
   "source": [
    "def pad_seqs(input_sequences, max_len):\n",
    "\n",
    "    # padding the tokenized sequences into same length \n",
    "    padded_sequences = pad_sequences(input_sequences, maxlen=max_len, padding='pre')\n",
    "\n",
    "    return padded_sequences"
   ]
  },
  {
   "cell_type": "code",
   "execution_count": 9,
   "metadata": {},
   "outputs": [
    {
     "data": {
      "text/plain": [
       "array([[  0,   0,   0,   0,  34, 417],\n",
       "       [  0,   0,   0,  34, 417, 877],\n",
       "       [  0,   0,  34, 417, 877, 166],\n",
       "       [  0,  34, 417, 877, 166, 213],\n",
       "       [ 34, 417, 877, 166, 213, 517]])"
      ]
     },
     "execution_count": 9,
     "metadata": {},
     "output_type": "execute_result"
    }
   ],
   "source": [
    "# Test the function with the n_grams_seq of the first example\n",
    "first_padded_seq = pad_seqs(first_example_sequence, max([len(x) for x in first_example_sequence]))\n",
    "first_padded_seq"
   ]
  },
  {
   "cell_type": "code",
   "execution_count": 10,
   "metadata": {},
   "outputs": [
    {
     "name": "stdout",
     "output_type": "stream",
     "text": [
      "padded corpus has shape: (15462, 11)\n"
     ]
    }
   ],
   "source": [
    "# Pad the whole corpus\n",
    "input_sequences = pad_seqs(input_sequences, max_sequence_len)\n",
    "\n",
    "print(f\"padded corpus has shape: {input_sequences.shape}\")"
   ]
  },
  {
   "cell_type": "markdown",
   "metadata": {},
   "source": [
    "## Split the Data into Features and Label \n",
    "\n",
    "before feeding the data into the neural network, the tokenized sequences have to be splitted into features and label first, in wich features will be the padded n_gram sequences with the last word remover from them and label will the the removed word (word not used in features). The label should be encoded using one hot encoding method. Because every words in the corpus will be a label at least once, the total words is also needed."
   ]
  },
  {
   "cell_type": "code",
   "execution_count": 11,
   "metadata": {},
   "outputs": [],
   "source": [
    "def split_features_label(input_sequences, total_words):\n",
    "\n",
    "    features = input_sequences[:,:-1]\n",
    "    label = input_sequences[:,-1]\n",
    "    one_hot_labels = to_categorical(label, num_classes=total_words)\n",
    "\n",
    "    return features, one_hot_labels"
   ]
  },
  {
   "cell_type": "code",
   "execution_count": 12,
   "metadata": {},
   "outputs": [
    {
     "name": "stdout",
     "output_type": "stream",
     "text": [
      "features have shape: (15462, 10)\n",
      "labels have shape: (15462, 3211)\n"
     ]
    }
   ],
   "source": [
    "# Split the whole corpus\n",
    "features, labels = split_features_label(input_sequences, total_words)\n",
    "\n",
    "print(f\"features have shape: {features.shape}\")\n",
    "print(f\"labels have shape: {labels.shape}\")"
   ]
  },
  {
   "cell_type": "markdown",
   "metadata": {},
   "source": [
    "## Create the Model \n",
    "\n"
   ]
  },
  {
   "cell_type": "code",
   "execution_count": 13,
   "metadata": {},
   "outputs": [],
   "source": [
    "def create_model(total_words, max_sequence_len):\n",
    "    \n",
    "    #create the model architecture\n",
    "    model = Sequential()\n",
    "    model.add(Embedding(total_words, 100, input_length= max_sequence_len-1))\n",
    "    model.add(Bidirectional(LSTM(150)))\n",
    "    model.add(Dense(total_words, activation='softmax'))\n",
    "\n",
    "    #compile the model \n",
    "    model.compile(loss='categorical_crossentropy',\n",
    "                  optimizer='adam',\n",
    "                  metrics=['accuracy'])\n",
    "    \n",
    "    return model "
   ]
  },
  {
   "cell_type": "code",
   "execution_count": 14,
   "metadata": {},
   "outputs": [
    {
     "name": "stdout",
     "output_type": "stream",
     "text": [
      "Epoch 1/50\n",
      "484/484 [==============================] - 24s 41ms/step - loss: 6.8793 - accuracy: 0.0211\n",
      "Epoch 2/50\n",
      "484/484 [==============================] - 21s 44ms/step - loss: 6.4279 - accuracy: 0.0314\n",
      "Epoch 3/50\n",
      "484/484 [==============================] - 20s 42ms/step - loss: 6.1763 - accuracy: 0.0415\n",
      "Epoch 4/50\n",
      "484/484 [==============================] - 20s 41ms/step - loss: 5.9026 - accuracy: 0.0539\n",
      "Epoch 5/50\n",
      "484/484 [==============================] - 17s 36ms/step - loss: 5.5847 - accuracy: 0.0619\n",
      "Epoch 6/50\n",
      "484/484 [==============================] - 18s 37ms/step - loss: 5.2203 - accuracy: 0.0757\n",
      "Epoch 7/50\n",
      "484/484 [==============================] - 18s 37ms/step - loss: 4.8230 - accuracy: 0.0983\n",
      "Epoch 8/50\n",
      "484/484 [==============================] - 19s 39ms/step - loss: 4.4076 - accuracy: 0.1351\n",
      "Epoch 9/50\n",
      "484/484 [==============================] - 25s 51ms/step - loss: 3.9912 - accuracy: 0.1865\n",
      "Epoch 10/50\n",
      "484/484 [==============================] - 19s 39ms/step - loss: 3.5853 - accuracy: 0.2577\n",
      "Epoch 11/50\n",
      "484/484 [==============================] - 18s 37ms/step - loss: 3.2134 - accuracy: 0.3261\n",
      "Epoch 12/50\n",
      "484/484 [==============================] - 18s 38ms/step - loss: 2.8796 - accuracy: 0.3924\n",
      "Epoch 13/50\n",
      "484/484 [==============================] - 18s 38ms/step - loss: 2.5835 - accuracy: 0.4530\n",
      "Epoch 14/50\n",
      "484/484 [==============================] - 18s 38ms/step - loss: 2.3251 - accuracy: 0.5032\n",
      "Epoch 15/50\n",
      "484/484 [==============================] - 19s 40ms/step - loss: 2.1085 - accuracy: 0.5535\n",
      "Epoch 16/50\n",
      "484/484 [==============================] - 19s 38ms/step - loss: 1.9005 - accuracy: 0.5951\n",
      "Epoch 17/50\n",
      "484/484 [==============================] - 18s 38ms/step - loss: 1.7207 - accuracy: 0.6375\n",
      "Epoch 18/50\n",
      "484/484 [==============================] - 19s 39ms/step - loss: 1.5647 - accuracy: 0.6729\n",
      "Epoch 19/50\n",
      "484/484 [==============================] - 18s 38ms/step - loss: 1.4266 - accuracy: 0.7029\n",
      "Epoch 20/50\n",
      "484/484 [==============================] - 19s 39ms/step - loss: 1.2978 - accuracy: 0.7312\n",
      "Epoch 21/50\n",
      "484/484 [==============================] - 18s 38ms/step - loss: 1.1926 - accuracy: 0.7529\n",
      "Epoch 22/50\n",
      "484/484 [==============================] - 18s 38ms/step - loss: 1.1019 - accuracy: 0.7738\n",
      "Epoch 23/50\n",
      "484/484 [==============================] - 18s 38ms/step - loss: 1.0158 - accuracy: 0.7906\n",
      "Epoch 24/50\n",
      "484/484 [==============================] - 19s 40ms/step - loss: 0.9468 - accuracy: 0.8043\n",
      "Epoch 25/50\n",
      "484/484 [==============================] - 19s 39ms/step - loss: 0.8891 - accuracy: 0.8131\n",
      "Epoch 26/50\n",
      "484/484 [==============================] - 18s 38ms/step - loss: 0.8426 - accuracy: 0.8213\n",
      "Epoch 27/50\n",
      "484/484 [==============================] - 19s 38ms/step - loss: 0.7978 - accuracy: 0.8283\n",
      "Epoch 28/50\n",
      "484/484 [==============================] - 19s 39ms/step - loss: 0.7611 - accuracy: 0.8326\n",
      "Epoch 29/50\n",
      "484/484 [==============================] - 19s 40ms/step - loss: 0.7340 - accuracy: 0.8357\n",
      "Epoch 30/50\n",
      "484/484 [==============================] - 19s 39ms/step - loss: 0.7092 - accuracy: 0.8388\n",
      "Epoch 31/50\n",
      "484/484 [==============================] - 19s 40ms/step - loss: 0.6881 - accuracy: 0.8417\n",
      "Epoch 32/50\n",
      "484/484 [==============================] - 24s 50ms/step - loss: 0.6819 - accuracy: 0.8418\n",
      "Epoch 33/50\n",
      "484/484 [==============================] - 18s 38ms/step - loss: 0.6617 - accuracy: 0.8433\n",
      "Epoch 34/50\n",
      "484/484 [==============================] - 19s 40ms/step - loss: 0.6461 - accuracy: 0.8443\n",
      "Epoch 35/50\n",
      "484/484 [==============================] - 20s 41ms/step - loss: 0.6357 - accuracy: 0.8468\n",
      "Epoch 36/50\n",
      "484/484 [==============================] - 20s 42ms/step - loss: 0.6239 - accuracy: 0.8470\n",
      "Epoch 37/50\n",
      "484/484 [==============================] - 26s 53ms/step - loss: 0.6169 - accuracy: 0.8479\n",
      "Epoch 38/50\n",
      "484/484 [==============================] - 21s 44ms/step - loss: 0.6136 - accuracy: 0.8468\n",
      "Epoch 39/50\n",
      "484/484 [==============================] - 21s 44ms/step - loss: 0.6026 - accuracy: 0.8475\n",
      "Epoch 40/50\n",
      "484/484 [==============================] - 22s 46ms/step - loss: 0.6017 - accuracy: 0.8480\n",
      "Epoch 41/50\n",
      "484/484 [==============================] - 19s 40ms/step - loss: 0.5968 - accuracy: 0.8469\n",
      "Epoch 42/50\n",
      "484/484 [==============================] - 21s 44ms/step - loss: 0.5932 - accuracy: 0.8487\n",
      "Epoch 43/50\n",
      "484/484 [==============================] - 22s 46ms/step - loss: 0.5838 - accuracy: 0.8511\n",
      "Epoch 44/50\n",
      "484/484 [==============================] - 21s 43ms/step - loss: 0.5772 - accuracy: 0.8498\n",
      "Epoch 45/50\n",
      "484/484 [==============================] - 20s 42ms/step - loss: 0.5777 - accuracy: 0.8483\n",
      "Epoch 46/50\n",
      "484/484 [==============================] - 20s 41ms/step - loss: 0.5730 - accuracy: 0.8486\n",
      "Epoch 47/50\n",
      "484/484 [==============================] - 20s 42ms/step - loss: 0.5727 - accuracy: 0.8476\n",
      "Epoch 48/50\n",
      "484/484 [==============================] - 20s 40ms/step - loss: 0.5672 - accuracy: 0.8493\n",
      "Epoch 49/50\n",
      "484/484 [==============================] - 19s 40ms/step - loss: 0.5675 - accuracy: 0.8502\n",
      "Epoch 50/50\n",
      "484/484 [==============================] - 19s 40ms/step - loss: 0.5640 - accuracy: 0.8498\n"
     ]
    }
   ],
   "source": [
    "# Get the untrained model\n",
    "model = create_model(total_words, max_sequence_len)\n",
    "\n",
    "# Train the model\n",
    "history = model.fit(features, labels, epochs=50, verbose=1)"
   ]
  },
  {
   "cell_type": "code",
   "execution_count": 15,
   "metadata": {},
   "outputs": [
    {
     "data": {
      "image/png": "[encoded data removed]",
      "text/plain": [
       "<Figure size 640x480 with 1 Axes>"
      ]
     },
     "metadata": {},
     "output_type": "display_data"
    },
    {
     "data": {
      "image/png": "[encoded data removed]",
      "text/plain": [
       "<Figure size 640x480 with 1 Axes>"
      ]
     },
     "metadata": {},
     "output_type": "display_data"
    }
   ],
   "source": [
    "# Show the training curves of the model\n",
    "\n",
    "acc = history.history['accuracy']\n",
    "loss = history.history['loss']\n",
    "\n",
    "epochs = range(len(acc))\n",
    "\n",
    "plt.plot(epochs, acc, 'b', label='Training accuracy')\n",
    "plt.title('Training accuracy')\n",
    "\n",
    "plt.figure()\n",
    "\n",
    "plt.plot(epochs, loss, 'b', label='Training Loss')\n",
    "plt.title('Training loss')\n",
    "plt.legend()\n",
    "\n",
    "plt.show()"
   ]
  },
  {
   "cell_type": "code",
   "execution_count": 1,
   "metadata": {},
   "outputs": [
    {
     "ename": "NameError",
     "evalue": "name 'model' is not defined",
     "output_type": "error",
     "traceback": [
      "\u001b[1;31m---------------------------------------------------------------------------\u001b[0m",
      "\u001b[1;31mNameError\u001b[0m                                 Traceback (most recent call last)",
      "Cell \u001b[1;32mIn[1], line 1\u001b[0m\n\u001b[1;32m----> 1\u001b[0m \u001b[43mmodel\u001b[49m\u001b[38;5;241m.\u001b[39msave(\u001b[38;5;124m'\u001b[39m\u001b[38;5;124msoneet_model.h5\u001b[39m\u001b[38;5;124m'\u001b[39m)\n",
      "\u001b[1;31mNameError\u001b[0m: name 'model' is not defined"
     ]
    }
   ],
   "source": [
    "model.save('soneet_model.h5')"
   ]
  },
  {
   "cell_type": "markdown",
   "metadata": {},
   "source": [
    "## Generating Sonnet using trained model "
   ]
  },
  {
   "cell_type": "code",
   "execution_count": 18,
   "metadata": {},
   "outputs": [
    {
     "name": "stdout",
     "output_type": "stream",
     "text": [
      "Help me Obi Wan Kenobi, you're my only hope my heart you still seem wrong old back of me back again ere me now thou dost lie to thee thy face prove thee ere grace thy face she lie to me blind dost be old hell the lease of thy true love control be fair due and thee one\n"
     ]
    }
   ],
   "source": [
    "seed_text = \"Help me Obi Wan Kenobi, you're my only hope\"\n",
    "next_words = 50\n",
    "\n",
    "for _ in range(next_words):\n",
    "    # Convert the text into sequences\n",
    "    token_list = tokenizer.texts_to_sequences([seed_text])[0]\n",
    "    # Pad the sequences\n",
    "    token_list = pad_sequences([token_list], maxlen=max_sequence_len-1, padding='pre')\n",
    "    # Get the probabilities of predicting a word\n",
    "    predicted = model.predict(token_list, verbose=0)\n",
    "    # Choose the next word based on the maximum probability\n",
    "    predicted = np.argmax(predicted, axis=-1).item()\n",
    "    # Get the actual word from the word index\n",
    "    output_word = tokenizer.index_word[predicted]\n",
    "    # Append to the current text\n",
    "    seed_text += \" \" + output_word\n",
    "\n",
    "print(seed_text)"
   ]
  }
 ],
 "metadata": {
  "kernelspec": {
   "display_name": "tf",
   "language": "python",
   "name": "python3"
  },
  "language_info": {
   "codemirror_mode": {
    "name": "ipython",
    "version": 3
   },
   "file_extension": ".py",
   "mimetype": "text/x-python",
   "name": "python",
   "nbconvert_exporter": "python",
   "pygments_lexer": "ipython3",
   "version": "3.8.19"
  }
 },
 "nbformat": 4,
 "nbformat_minor": 2
}
